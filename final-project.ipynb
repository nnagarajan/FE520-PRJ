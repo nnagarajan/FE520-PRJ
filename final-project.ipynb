{
 "cells": [
  {
   "cell_type": "code",
   "execution_count": 73,
   "id": "378a9bf5-3088-4335-978c-e7e2b965fec6",
   "metadata": {
    "ExecuteTime": {
     "end_time": "2025-05-10T05:02:36.142407842Z",
     "start_time": "2025-05-10T05:02:36.071538131Z"
    }
   },
   "outputs": [],
   "source": [
    "import pandas as pd\n",
    "import finlib.trade_direction as td\n",
    "import finlib.pin_measure as pm\n",
    "import finlib.volatility_measures as vm\n",
    "import finlib.liquidity_measures as lm"
   ]
  },
  {
   "cell_type": "code",
   "execution_count": 79,
   "outputs": [
    {
     "data": {
      "text/plain": "<module 'finlib.liquidity_measures' from '/home/nnagarajan/workspace/Stevens FA/FE520 - Introduction to Python for Financial Apps/project/finlib/liquidity_measures.py'>"
     },
     "execution_count": 79,
     "metadata": {},
     "output_type": "execute_result"
    }
   ],
   "source": [
    "import importlib\n",
    "importlib.reload(lm)"
   ],
   "metadata": {
    "collapsed": false,
    "ExecuteTime": {
     "end_time": "2025-05-10T05:08:43.990404690Z",
     "start_time": "2025-05-10T05:08:43.868003176Z"
    }
   },
   "id": "8c7f83a8c2304ce4"
  },
  {
   "cell_type": "code",
   "execution_count": 53,
   "outputs": [],
   "source": [
    "tsla_taq=pd.read_csv(\"tsla_taq_20241021_condensed.csv\")\n",
    "tsla_taq['Date.Time'] = pd.to_datetime(tsla_taq['Date.Time'])\n",
    "tsla_taq.drop('Unnamed: 0',axis=1,inplace=True)"
   ],
   "metadata": {
    "collapsed": false,
    "ExecuteTime": {
     "end_time": "2025-05-10T04:37:41.642902113Z",
     "start_time": "2025-05-10T04:37:40.387970334Z"
    }
   },
   "id": "eba821d196dcdd4e"
  },
  {
   "cell_type": "code",
   "execution_count": 54,
   "outputs": [
    {
     "data": {
      "text/plain": "                                 Date.Time Ex.Cntrb.ID  Bid.Price  Bid.Size  \\\n0      2024-10-21 04:00:00.098902812-04:00         PSE        NaN       NaN   \n1      2024-10-21 04:00:00.116955090-04:00         DEX     219.66       1.0   \n2      2024-10-21 04:00:00.116955090-04:00         DEX     219.66       1.0   \n3      2024-10-21 04:00:00.116955090-04:00         DEX     219.66       1.0   \n4      2024-10-21 04:00:00.116955090-04:00         DEX     219.66       1.0   \n...                                    ...         ...        ...       ...   \n817711 2024-10-21 19:59:55.963028354-04:00         PSE     218.50       4.0   \n817712 2024-10-21 19:59:55.963570609-04:00         PSE     218.50       4.0   \n817713 2024-10-21 19:59:56.043247510-04:00         ADF     218.50       4.0   \n817714 2024-10-21 19:59:56.078043716-04:00         ADF     218.50       4.0   \n817715 2024-10-21 19:59:57.948011717-04:00         ADF     218.50       4.0   \n\n        Ask.Price  Ask.Size Tick.Dir.   Price  Volume  \n0             NaN       NaN       NaN  219.70   541.0  \n1          219.70       2.0       NaN  221.00     6.0  \n2          219.70       2.0       NaN  220.89     1.0  \n3          219.70       2.0       NaN  220.89    10.0  \n4          219.70       2.0       NaN  220.70     3.0  \n...           ...       ...       ...     ...     ...  \n817711     218.55      30.0       NaN  218.54     9.0  \n817712     218.55      30.0       NaN  218.54     1.0  \n817713     218.55      30.0       NaN  218.50    25.0  \n817714     218.55      30.0       NaN  218.50     1.0  \n817715     218.55      30.0       NaN  218.50   100.0  \n\n[817716 rows x 9 columns]",
      "text/html": "<div>\n<style scoped>\n    .dataframe tbody tr th:only-of-type {\n        vertical-align: middle;\n    }\n\n    .dataframe tbody tr th {\n        vertical-align: top;\n    }\n\n    .dataframe thead th {\n        text-align: right;\n    }\n</style>\n<table border=\"1\" class=\"dataframe\">\n  <thead>\n    <tr style=\"text-align: right;\">\n      <th></th>\n      <th>Date.Time</th>\n      <th>Ex.Cntrb.ID</th>\n      <th>Bid.Price</th>\n      <th>Bid.Size</th>\n      <th>Ask.Price</th>\n      <th>Ask.Size</th>\n      <th>Tick.Dir.</th>\n      <th>Price</th>\n      <th>Volume</th>\n    </tr>\n  </thead>\n  <tbody>\n    <tr>\n      <th>0</th>\n      <td>2024-10-21 04:00:00.098902812-04:00</td>\n      <td>PSE</td>\n      <td>NaN</td>\n      <td>NaN</td>\n      <td>NaN</td>\n      <td>NaN</td>\n      <td>NaN</td>\n      <td>219.70</td>\n      <td>541.0</td>\n    </tr>\n    <tr>\n      <th>1</th>\n      <td>2024-10-21 04:00:00.116955090-04:00</td>\n      <td>DEX</td>\n      <td>219.66</td>\n      <td>1.0</td>\n      <td>219.70</td>\n      <td>2.0</td>\n      <td>NaN</td>\n      <td>221.00</td>\n      <td>6.0</td>\n    </tr>\n    <tr>\n      <th>2</th>\n      <td>2024-10-21 04:00:00.116955090-04:00</td>\n      <td>DEX</td>\n      <td>219.66</td>\n      <td>1.0</td>\n      <td>219.70</td>\n      <td>2.0</td>\n      <td>NaN</td>\n      <td>220.89</td>\n      <td>1.0</td>\n    </tr>\n    <tr>\n      <th>3</th>\n      <td>2024-10-21 04:00:00.116955090-04:00</td>\n      <td>DEX</td>\n      <td>219.66</td>\n      <td>1.0</td>\n      <td>219.70</td>\n      <td>2.0</td>\n      <td>NaN</td>\n      <td>220.89</td>\n      <td>10.0</td>\n    </tr>\n    <tr>\n      <th>4</th>\n      <td>2024-10-21 04:00:00.116955090-04:00</td>\n      <td>DEX</td>\n      <td>219.66</td>\n      <td>1.0</td>\n      <td>219.70</td>\n      <td>2.0</td>\n      <td>NaN</td>\n      <td>220.70</td>\n      <td>3.0</td>\n    </tr>\n    <tr>\n      <th>...</th>\n      <td>...</td>\n      <td>...</td>\n      <td>...</td>\n      <td>...</td>\n      <td>...</td>\n      <td>...</td>\n      <td>...</td>\n      <td>...</td>\n      <td>...</td>\n    </tr>\n    <tr>\n      <th>817711</th>\n      <td>2024-10-21 19:59:55.963028354-04:00</td>\n      <td>PSE</td>\n      <td>218.50</td>\n      <td>4.0</td>\n      <td>218.55</td>\n      <td>30.0</td>\n      <td>NaN</td>\n      <td>218.54</td>\n      <td>9.0</td>\n    </tr>\n    <tr>\n      <th>817712</th>\n      <td>2024-10-21 19:59:55.963570609-04:00</td>\n      <td>PSE</td>\n      <td>218.50</td>\n      <td>4.0</td>\n      <td>218.55</td>\n      <td>30.0</td>\n      <td>NaN</td>\n      <td>218.54</td>\n      <td>1.0</td>\n    </tr>\n    <tr>\n      <th>817713</th>\n      <td>2024-10-21 19:59:56.043247510-04:00</td>\n      <td>ADF</td>\n      <td>218.50</td>\n      <td>4.0</td>\n      <td>218.55</td>\n      <td>30.0</td>\n      <td>NaN</td>\n      <td>218.50</td>\n      <td>25.0</td>\n    </tr>\n    <tr>\n      <th>817714</th>\n      <td>2024-10-21 19:59:56.078043716-04:00</td>\n      <td>ADF</td>\n      <td>218.50</td>\n      <td>4.0</td>\n      <td>218.55</td>\n      <td>30.0</td>\n      <td>NaN</td>\n      <td>218.50</td>\n      <td>1.0</td>\n    </tr>\n    <tr>\n      <th>817715</th>\n      <td>2024-10-21 19:59:57.948011717-04:00</td>\n      <td>ADF</td>\n      <td>218.50</td>\n      <td>4.0</td>\n      <td>218.55</td>\n      <td>30.0</td>\n      <td>NaN</td>\n      <td>218.50</td>\n      <td>100.0</td>\n    </tr>\n  </tbody>\n</table>\n<p>817716 rows × 9 columns</p>\n</div>"
     },
     "execution_count": 54,
     "metadata": {},
     "output_type": "execute_result"
    }
   ],
   "source": [
    "tsla_taq"
   ],
   "metadata": {
    "collapsed": false,
    "ExecuteTime": {
     "end_time": "2025-05-10T04:37:41.776648724Z",
     "start_time": "2025-05-10T04:37:41.643793111Z"
    }
   },
   "id": "cf31eb10ce9fc884"
  },
  {
   "cell_type": "code",
   "execution_count": 55,
   "outputs": [],
   "source": [
    "trade_directions=td.lee_ready_direction(tsla_taq[\"Price\"],tsla_taq[\"Bid.Price\"],tsla_taq[\"Ask.Price\"])"
   ],
   "metadata": {
    "collapsed": false,
    "ExecuteTime": {
     "end_time": "2025-05-10T04:37:49.692377839Z",
     "start_time": "2025-05-10T04:37:43.949100580Z"
    }
   },
   "id": "b379da3314052282"
  },
  {
   "cell_type": "code",
   "execution_count": 56,
   "outputs": [],
   "source": [
    "tsla_taq[\"Direction\"]=trade_directions"
   ],
   "metadata": {
    "collapsed": false,
    "ExecuteTime": {
     "end_time": "2025-05-10T04:37:51.372265515Z",
     "start_time": "2025-05-10T04:37:51.341553915Z"
    }
   },
   "id": "22e08a25558a8c46"
  },
  {
   "cell_type": "code",
   "execution_count": 57,
   "outputs": [],
   "source": [
    "tsla_buy_vols=tsla_taq[tsla_taq[\"Direction\"]==1][\"Volume\"]\n",
    "tsla_sell_vols=tsla_taq[tsla_taq[\"Direction\"]==-1][\"Volume\"]"
   ],
   "metadata": {
    "collapsed": false,
    "ExecuteTime": {
     "end_time": "2025-05-10T04:37:53.047627027Z",
     "start_time": "2025-05-10T04:37:52.985049606Z"
    }
   },
   "id": "d8960cc61ab58e47"
  },
  {
   "cell_type": "code",
   "execution_count": 70,
   "outputs": [
    {
     "data": {
      "text/plain": "np.float64(0.09090909090909091)"
     },
     "execution_count": 70,
     "metadata": {},
     "output_type": "execute_result"
    }
   ],
   "source": [
    "pm.pin_ekop(tsla_buy_vols,tsla_sell_vols)"
   ],
   "metadata": {
    "collapsed": false,
    "ExecuteTime": {
     "end_time": "2025-05-10T04:49:42.896308950Z",
     "start_time": "2025-05-10T04:46:57.686207325Z"
    }
   },
   "id": "b12830e7262908d9"
  },
  {
   "cell_type": "code",
   "execution_count": 65,
   "outputs": [
    {
     "data": {
      "text/plain": "{'Average Price': 218.31344714070912,\n 'Daily Volatility (Roll)': 458.1250074867424,\n 'Annualized Volatility (Roll)': 7272.509035137145,\n 'Log-Normal Annualized Volatility (Roll)': 33.31223582599476,\n 'Total Daily Volatility': 904.2754005279586,\n 'Total Annualized Volatility': 14354.926959061826,\n 'Log-Normal Total Annualized Volatility': 65.75374603383764}"
     },
     "execution_count": 65,
     "metadata": {},
     "output_type": "execute_result"
    }
   ],
   "source": [
    "vm.roll_model_analysis(tsla_taq[\"Price\"].dropna())"
   ],
   "metadata": {
    "collapsed": false,
    "ExecuteTime": {
     "end_time": "2025-05-10T04:39:38.869259521Z",
     "start_time": "2025-05-10T04:39:23.411569464Z"
    }
   },
   "id": "ac5674539d9e71f3"
  },
  {
   "cell_type": "code",
   "execution_count": 80,
   "outputs": [
    {
     "data": {
      "text/plain": "-0.042639700433158845"
     },
     "execution_count": 80,
     "metadata": {},
     "output_type": "execute_result"
    }
   ],
   "source": [
    "lm.quoted_spread(tsla_taq[\"Bid.Price\"],tsla_taq[\"Ask.Price\"])"
   ],
   "metadata": {
    "collapsed": false,
    "ExecuteTime": {
     "end_time": "2025-05-10T05:08:48.618767316Z",
     "start_time": "2025-05-10T05:08:48.602610059Z"
    }
   },
   "id": "697b2019e37feac4"
  },
  {
   "cell_type": "code",
   "execution_count": 81,
   "outputs": [
    {
     "data": {
      "text/plain": "0.04251152849774049"
     },
     "execution_count": 81,
     "metadata": {},
     "output_type": "execute_result"
    }
   ],
   "source": [
    "lm.effective_spread(tsla_taq[\"Price\"],tsla_taq[\"Bid.Price\"],tsla_taq[\"Ask.Price\"],trade_directions)"
   ],
   "metadata": {
    "collapsed": false,
    "ExecuteTime": {
     "end_time": "2025-05-10T05:08:50.163270006Z",
     "start_time": "2025-05-10T05:08:50.142838317Z"
    }
   },
   "id": "5373fb56aa0dc691"
  },
  {
   "cell_type": "code",
   "execution_count": null,
   "outputs": [],
   "source": [],
   "metadata": {
    "collapsed": false
   },
   "id": "6bf3978ffc06705"
  }
 ],
 "metadata": {
  "kernelspec": {
   "display_name": "Python 3 (ipykernel)",
   "language": "python",
   "name": "python3"
  },
  "language_info": {
   "codemirror_mode": {
    "name": "ipython",
    "version": 3
   },
   "file_extension": ".py",
   "mimetype": "text/x-python",
   "name": "python",
   "nbconvert_exporter": "python",
   "pygments_lexer": "ipython3",
   "version": "3.9.21"
  }
 },
 "nbformat": 4,
 "nbformat_minor": 5
}
