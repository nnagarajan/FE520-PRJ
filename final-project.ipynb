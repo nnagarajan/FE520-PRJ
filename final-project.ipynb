{
 "cells": [
  {
   "metadata": {},
   "cell_type": "markdown",
   "source": [
    "# FE 520 - Final Project\n",
    "\n",
    "By\n",
    "Naveen Nagarajan, Andy Dominiquez and Andrea Cherayath\n"
   ],
   "id": "ea08fb78b0dc8eca"
  },
  {
   "metadata": {},
   "cell_type": "markdown",
   "source": [
    "## Market Microstructure Analysis Using finlib Package\n",
    "\n",
    "This notebook demonstrates market microstructure analysis using the custom finlib package, which implements several key measures and models:\n",
    "\n",
    "### Trade Direction Classification\n",
    "- Implementation of Lee-Ready algorithm for classifying trades as buys or sells based on trade price relative to quotes\n",
    "\n",
    "### Information-Based Trading Measures  \n",
    "- Probability of Informed Trading (PIN) estimation using EKOP model to measure information asymmetry\n",
    "\n",
    "### Volatility Analysis\n",
    "- Roll's model for estimating effective spread and volatility from trade price series\n",
    "\n",
    "### Liquidity Measures\n",
    "- Quoted spreads: Difference between best ask and bid prices\n",
    "- Effective spreads: Actual execution costs incorporating trade_direction\n",
    "\n",
    "The analysis is performed on Tesla (TSLA) high-frequency trade and quote data from October 21, 2024.\n"
   ],
   "id": "de67409856935a53"
  },
  {
   "metadata": {},
   "cell_type": "code",
   "outputs": [],
   "execution_count": 8,
   "source": [
    "import pandas as pd\n",
    "import finlib.trade_direction as td\n",
    "import finlib.pin_measure as pm\n",
    "import finlib.volatility_measures as vm\n",
    "import finlib.liquidity_measures as lm\n",
    "import finlib.investment_metrics as im\n",
    "import numpy as np\n",
    "import warnings\n",
    "warnings.filterwarnings('ignore')"
   ],
   "id": "65705ff7d7519a07"
  },
  {
   "metadata": {
    "ExecuteTime": {
     "end_time": "2025-05-11T02:42:13.302510Z",
     "start_time": "2025-05-11T02:42:13.267800Z"
    }
   },
   "cell_type": "code",
   "source": [
    "import importlib\n",
    "importlib.reload(lm)"
   ],
   "id": "3dca28513d721850",
   "outputs": [
    {
     "data": {
      "text/plain": [
       "<module 'finlib.liquidity_measures' from '/home/nnagarajan/workspace/Stevens FA/FE520 - Introduction to Python for Financial Apps/project/finlib/liquidity_measures.py'>"
      ]
     },
     "execution_count": 9,
     "metadata": {},
     "output_type": "execute_result"
    }
   ],
   "execution_count": 9
  },
  {
   "cell_type": "code",
   "source": [
    "tsla_taq=pd.read_csv(\"tsla_taq_20241021_condensed.csv\")\n",
    "tsla_taq['Date.Time'] = pd.to_datetime(tsla_taq['Date.Time'])\n",
    "tsla_taq.drop('Unnamed: 0',axis=1,inplace=True)"
   ],
   "metadata": {
    "collapsed": false,
    "ExecuteTime": {
     "end_time": "2025-05-11T01:01:38.372433Z",
     "start_time": "2025-05-11T01:01:37.125863Z"
    }
   },
   "id": "eba821d196dcdd4e",
   "outputs": [],
   "execution_count": 2
  },
  {
   "cell_type": "code",
   "source": [
    "tsla_taq"
   ],
   "metadata": {
    "collapsed": false,
    "ExecuteTime": {
     "end_time": "2025-05-11T01:01:41.199213Z",
     "start_time": "2025-05-11T01:01:41.190255Z"
    }
   },
   "id": "cf31eb10ce9fc884",
   "outputs": [
    {
     "data": {
      "text/plain": [
       "                                 Date.Time Ex.Cntrb.ID  Bid.Price  Bid.Size  \\\n",
       "0      2024-10-21 04:00:00.098902812-04:00         PSE        NaN       NaN   \n",
       "1      2024-10-21 04:00:00.116955090-04:00         DEX     219.66       1.0   \n",
       "2      2024-10-21 04:00:00.116955090-04:00         DEX     219.66       1.0   \n",
       "3      2024-10-21 04:00:00.116955090-04:00         DEX     219.66       1.0   \n",
       "4      2024-10-21 04:00:00.116955090-04:00         DEX     219.66       1.0   \n",
       "...                                    ...         ...        ...       ...   \n",
       "817711 2024-10-21 19:59:55.963028354-04:00         PSE     218.50       4.0   \n",
       "817712 2024-10-21 19:59:55.963570609-04:00         PSE     218.50       4.0   \n",
       "817713 2024-10-21 19:59:56.043247510-04:00         ADF     218.50       4.0   \n",
       "817714 2024-10-21 19:59:56.078043716-04:00         ADF     218.50       4.0   \n",
       "817715 2024-10-21 19:59:57.948011717-04:00         ADF     218.50       4.0   \n",
       "\n",
       "        Ask.Price  Ask.Size Tick.Dir.   Price  Volume  \n",
       "0             NaN       NaN       NaN  219.70   541.0  \n",
       "1          219.70       2.0       NaN  221.00     6.0  \n",
       "2          219.70       2.0       NaN  220.89     1.0  \n",
       "3          219.70       2.0       NaN  220.89    10.0  \n",
       "4          219.70       2.0       NaN  220.70     3.0  \n",
       "...           ...       ...       ...     ...     ...  \n",
       "817711     218.55      30.0       NaN  218.54     9.0  \n",
       "817712     218.55      30.0       NaN  218.54     1.0  \n",
       "817713     218.55      30.0       NaN  218.50    25.0  \n",
       "817714     218.55      30.0       NaN  218.50     1.0  \n",
       "817715     218.55      30.0       NaN  218.50   100.0  \n",
       "\n",
       "[817716 rows x 9 columns]"
      ],
      "text/html": [
       "<div>\n",
       "<style scoped>\n",
       "    .dataframe tbody tr th:only-of-type {\n",
       "        vertical-align: middle;\n",
       "    }\n",
       "\n",
       "    .dataframe tbody tr th {\n",
       "        vertical-align: top;\n",
       "    }\n",
       "\n",
       "    .dataframe thead th {\n",
       "        text-align: right;\n",
       "    }\n",
       "</style>\n",
       "<table border=\"1\" class=\"dataframe\">\n",
       "  <thead>\n",
       "    <tr style=\"text-align: right;\">\n",
       "      <th></th>\n",
       "      <th>Date.Time</th>\n",
       "      <th>Ex.Cntrb.ID</th>\n",
       "      <th>Bid.Price</th>\n",
       "      <th>Bid.Size</th>\n",
       "      <th>Ask.Price</th>\n",
       "      <th>Ask.Size</th>\n",
       "      <th>Tick.Dir.</th>\n",
       "      <th>Price</th>\n",
       "      <th>Volume</th>\n",
       "    </tr>\n",
       "  </thead>\n",
       "  <tbody>\n",
       "    <tr>\n",
       "      <th>0</th>\n",
       "      <td>2024-10-21 04:00:00.098902812-04:00</td>\n",
       "      <td>PSE</td>\n",
       "      <td>NaN</td>\n",
       "      <td>NaN</td>\n",
       "      <td>NaN</td>\n",
       "      <td>NaN</td>\n",
       "      <td>NaN</td>\n",
       "      <td>219.70</td>\n",
       "      <td>541.0</td>\n",
       "    </tr>\n",
       "    <tr>\n",
       "      <th>1</th>\n",
       "      <td>2024-10-21 04:00:00.116955090-04:00</td>\n",
       "      <td>DEX</td>\n",
       "      <td>219.66</td>\n",
       "      <td>1.0</td>\n",
       "      <td>219.70</td>\n",
       "      <td>2.0</td>\n",
       "      <td>NaN</td>\n",
       "      <td>221.00</td>\n",
       "      <td>6.0</td>\n",
       "    </tr>\n",
       "    <tr>\n",
       "      <th>2</th>\n",
       "      <td>2024-10-21 04:00:00.116955090-04:00</td>\n",
       "      <td>DEX</td>\n",
       "      <td>219.66</td>\n",
       "      <td>1.0</td>\n",
       "      <td>219.70</td>\n",
       "      <td>2.0</td>\n",
       "      <td>NaN</td>\n",
       "      <td>220.89</td>\n",
       "      <td>1.0</td>\n",
       "    </tr>\n",
       "    <tr>\n",
       "      <th>3</th>\n",
       "      <td>2024-10-21 04:00:00.116955090-04:00</td>\n",
       "      <td>DEX</td>\n",
       "      <td>219.66</td>\n",
       "      <td>1.0</td>\n",
       "      <td>219.70</td>\n",
       "      <td>2.0</td>\n",
       "      <td>NaN</td>\n",
       "      <td>220.89</td>\n",
       "      <td>10.0</td>\n",
       "    </tr>\n",
       "    <tr>\n",
       "      <th>4</th>\n",
       "      <td>2024-10-21 04:00:00.116955090-04:00</td>\n",
       "      <td>DEX</td>\n",
       "      <td>219.66</td>\n",
       "      <td>1.0</td>\n",
       "      <td>219.70</td>\n",
       "      <td>2.0</td>\n",
       "      <td>NaN</td>\n",
       "      <td>220.70</td>\n",
       "      <td>3.0</td>\n",
       "    </tr>\n",
       "    <tr>\n",
       "      <th>...</th>\n",
       "      <td>...</td>\n",
       "      <td>...</td>\n",
       "      <td>...</td>\n",
       "      <td>...</td>\n",
       "      <td>...</td>\n",
       "      <td>...</td>\n",
       "      <td>...</td>\n",
       "      <td>...</td>\n",
       "      <td>...</td>\n",
       "    </tr>\n",
       "    <tr>\n",
       "      <th>817711</th>\n",
       "      <td>2024-10-21 19:59:55.963028354-04:00</td>\n",
       "      <td>PSE</td>\n",
       "      <td>218.50</td>\n",
       "      <td>4.0</td>\n",
       "      <td>218.55</td>\n",
       "      <td>30.0</td>\n",
       "      <td>NaN</td>\n",
       "      <td>218.54</td>\n",
       "      <td>9.0</td>\n",
       "    </tr>\n",
       "    <tr>\n",
       "      <th>817712</th>\n",
       "      <td>2024-10-21 19:59:55.963570609-04:00</td>\n",
       "      <td>PSE</td>\n",
       "      <td>218.50</td>\n",
       "      <td>4.0</td>\n",
       "      <td>218.55</td>\n",
       "      <td>30.0</td>\n",
       "      <td>NaN</td>\n",
       "      <td>218.54</td>\n",
       "      <td>1.0</td>\n",
       "    </tr>\n",
       "    <tr>\n",
       "      <th>817713</th>\n",
       "      <td>2024-10-21 19:59:56.043247510-04:00</td>\n",
       "      <td>ADF</td>\n",
       "      <td>218.50</td>\n",
       "      <td>4.0</td>\n",
       "      <td>218.55</td>\n",
       "      <td>30.0</td>\n",
       "      <td>NaN</td>\n",
       "      <td>218.50</td>\n",
       "      <td>25.0</td>\n",
       "    </tr>\n",
       "    <tr>\n",
       "      <th>817714</th>\n",
       "      <td>2024-10-21 19:59:56.078043716-04:00</td>\n",
       "      <td>ADF</td>\n",
       "      <td>218.50</td>\n",
       "      <td>4.0</td>\n",
       "      <td>218.55</td>\n",
       "      <td>30.0</td>\n",
       "      <td>NaN</td>\n",
       "      <td>218.50</td>\n",
       "      <td>1.0</td>\n",
       "    </tr>\n",
       "    <tr>\n",
       "      <th>817715</th>\n",
       "      <td>2024-10-21 19:59:57.948011717-04:00</td>\n",
       "      <td>ADF</td>\n",
       "      <td>218.50</td>\n",
       "      <td>4.0</td>\n",
       "      <td>218.55</td>\n",
       "      <td>30.0</td>\n",
       "      <td>NaN</td>\n",
       "      <td>218.50</td>\n",
       "      <td>100.0</td>\n",
       "    </tr>\n",
       "  </tbody>\n",
       "</table>\n",
       "<p>817716 rows × 9 columns</p>\n",
       "</div>"
      ]
     },
     "execution_count": 3,
     "metadata": {},
     "output_type": "execute_result"
    }
   ],
   "execution_count": 3
  },
  {
   "cell_type": "code",
   "source": [
    "trade_directions=td.lee_ready_direction(tsla_taq[\"Price\"],tsla_taq[\"Bid.Price\"],tsla_taq[\"Ask.Price\"])"
   ],
   "metadata": {
    "collapsed": false,
    "ExecuteTime": {
     "end_time": "2025-05-11T01:01:49.168003Z",
     "start_time": "2025-05-11T01:01:43.358642Z"
    }
   },
   "id": "b379da3314052282",
   "outputs": [],
   "execution_count": 4
  },
  {
   "cell_type": "code",
   "source": [
    "tsla_taq[\"Direction\"]=trade_directions"
   ],
   "metadata": {
    "collapsed": false,
    "ExecuteTime": {
     "end_time": "2025-05-11T01:01:51.639650Z",
     "start_time": "2025-05-11T01:01:51.636187Z"
    }
   },
   "id": "22e08a25558a8c46",
   "outputs": [],
   "execution_count": 5
  },
  {
   "cell_type": "code",
   "source": [
    "tsla_buy_vols=tsla_taq[tsla_taq[\"Direction\"]==1][\"Volume\"]\n",
    "tsla_sell_vols=tsla_taq[tsla_taq[\"Direction\"]==-1][\"Volume\"]"
   ],
   "metadata": {
    "collapsed": false,
    "ExecuteTime": {
     "end_time": "2025-05-11T01:01:53.377563Z",
     "start_time": "2025-05-11T01:01:53.336374Z"
    }
   },
   "id": "d8960cc61ab58e47",
   "outputs": [],
   "execution_count": 6
  },
  {
   "cell_type": "code",
   "source": "pm.pin_ekop(tsla_buy_vols, tsla_sell_vols)",
   "metadata": {
    "collapsed": false,
    "is_executing": true,
    "ExecuteTime": {
     "end_time": "2025-05-11T02:45:14.069148Z",
     "start_time": "2025-05-11T02:42:19.621623Z"
    }
   },
   "id": "b12830e7262908d9",
   "outputs": [
    {
     "data": {
      "text/plain": [
       "np.float64(0.09090909090909091)"
      ]
     },
     "execution_count": 10,
     "metadata": {},
     "output_type": "execute_result"
    }
   ],
   "execution_count": 10
  },
  {
   "cell_type": "code",
   "execution_count": 65,
   "outputs": [
    {
     "data": {
      "text/plain": "{'Average Price': 218.31344714070912,\n 'Daily Volatility (Roll)': 458.1250074867424,\n 'Annualized Volatility (Roll)': 7272.509035137145,\n 'Log-Normal Annualized Volatility (Roll)': 33.31223582599476,\n 'Total Daily Volatility': 904.2754005279586,\n 'Total Annualized Volatility': 14354.926959061826,\n 'Log-Normal Total Annualized Volatility': 65.75374603383764}"
     },
     "execution_count": 65,
     "metadata": {},
     "output_type": "execute_result"
    }
   ],
   "source": [
    "vm.roll_model_analysis(tsla_taq[\"Price\"].dropna())"
   ],
   "metadata": {
    "collapsed": false,
    "ExecuteTime": {
     "end_time": "2025-05-10T04:39:38.869259521Z",
     "start_time": "2025-05-10T04:39:23.411569464Z"
    }
   },
   "id": "ac5674539d9e71f3"
  },
  {
   "cell_type": "code",
   "execution_count": 80,
   "outputs": [
    {
     "data": {
      "text/plain": "-0.042639700433158845"
     },
     "execution_count": 80,
     "metadata": {},
     "output_type": "execute_result"
    }
   ],
   "source": [
    "lm.quoted_spread(tsla_taq[\"Bid.Price\"],tsla_taq[\"Ask.Price\"])"
   ],
   "metadata": {
    "collapsed": false,
    "ExecuteTime": {
     "end_time": "2025-05-10T05:08:48.618767316Z",
     "start_time": "2025-05-10T05:08:48.602610059Z"
    }
   },
   "id": "697b2019e37feac4"
  },
  {
   "cell_type": "code",
   "execution_count": 81,
   "outputs": [
    {
     "data": {
      "text/plain": "0.04251152849774049"
     },
     "execution_count": 81,
     "metadata": {},
     "output_type": "execute_result"
    }
   ],
   "source": [
    "lm.effective_spread(tsla_taq[\"Price\"],tsla_taq[\"Bid.Price\"],tsla_taq[\"Ask.Price\"],trade_directions)"
   ],
   "metadata": {
    "collapsed": false,
    "ExecuteTime": {
     "end_time": "2025-05-10T05:08:50.163270006Z",
     "start_time": "2025-05-10T05:08:50.142838317Z"
    }
   },
   "id": "5373fb56aa0dc691"
  },
  {
   "metadata": {},
   "cell_type": "code",
   "outputs": [],
   "execution_count": null,
   "source": [
    "aapl_data = pd.read_csv(\"AAPL_Recent_May2023_May2024.csv\", parse_dates=[\"Date\"])\n",
    "aapl_data.set_index(\"Date\", inplace=True)\n",
    "prices = aapl_data[\"Adj Close\"]"
   ],
   "id": "974dd31f4b87bf97"
  },
  {
   "metadata": {},
   "cell_type": "markdown",
   "source": "### Investment Metrics Module",
   "id": "9a2ffa3105d4005"
  },
  {
   "metadata": {},
   "cell_type": "code",
   "outputs": [],
   "execution_count": null,
   "source": [
    "start_val = prices.iloc[0]\n",
    "end_val = prices.iloc[-1]\n",
    "returns = np.log(prices / prices.shift(1)).dropna()\n",
    "\n",
    "# Calculate metrics\n",
    "cagr_val = im.cagr(start_val, end_val, 1)\n",
    "roi_val = im.roi(end_val, start_val)\n",
    "sharpe_val = im.sharpe_ratio(returns)\n",
    "volatility_val = im.calculate_volatility(prices)\n",
    "\n",
    "# Display metrics\n",
    "df_metrics = pd.DataFrame({\n",
    "    \"Metric\": [\"CAGR\", \"ROI\", \"Sharpe Ratio\", \"Volatility\"],\n",
    "    \"Value\": [cagr_val, roi_val, sharpe_val, volatility_val]\n",
    "})\n",
    "print(df_metrics)\n",
    "\n",
    "# Plot\n",
    "im.plot_price_and_returns(prices)"
   ],
   "id": "145c57fac2c82cc7"
  }
 ],
 "metadata": {
  "kernelspec": {
   "display_name": "Python 3 (ipykernel)",
   "language": "python",
   "name": "python3"
  },
  "language_info": {
   "codemirror_mode": {
    "name": "ipython",
    "version": 3
   },
   "file_extension": ".py",
   "mimetype": "text/x-python",
   "name": "python",
   "nbconvert_exporter": "python",
   "pygments_lexer": "ipython3",
   "version": "3.9.21"
  }
 },
 "nbformat": 4,
 "nbformat_minor": 5
}
