{
 "cells": [
  {
   "metadata": {},
   "cell_type": "markdown",
   "source": [
    "# FE 520 - Final Project\n",
    "\n",
    "By\n",
    "Naveen Nagarajan, Andy Dominiquez and Andrea Cherayath\n"
   ],
   "id": "ea08fb78b0dc8eca"
  },
  {
   "metadata": {},
   "cell_type": "markdown",
   "source": [
    "## Introduction\n",
    "\n",
    "This project explores market microstructure analytics and investment performance metrics using Python. Market microstructure analysis focuses on trading mechanisms, price discovery processes, and measures like bid-ask spreads, trade direction classification, and probability of informed trading (PIN). The investment performance metrics include key indicators like CAGR, ROI, Sharpe ratio and volatility measures that help evaluate investment strategy effectiveness. We analyze these concepts using Tesla (TSLA) high-frequency trading data and Apple (AAPL) historical price data to demonstrate practical applications.\n"
   ],
   "id": "74afa8ce714a6cef"
  },
  {
   "metadata": {},
   "cell_type": "markdown",
   "source": [
    "## Market Microstructure Analysis Using finlib Package\n",
    "\n",
    "This section demonstrates market microstructure analysis using the  finlib package, which implements several key measures and models:\n",
    "\n",
    "- Trade Direction Classification\n",
    "    Implementation of Lee-Ready algorithm for classifying trades as buys or sells based on trade price relative to quotes\n",
    "\n",
    "- Information-Based Trading Measures\n",
    "    Probability of Informed Trading (PIN) estimation using Easley, Kiefer, and O'Hara (EKOP) model to measure information asymmetry\n",
    "\n",
    "- Volatility Analysis\n",
    "    Roll's model for estimating effective spread and volatility from trade price series\n",
    "\n",
    "- Liquidity Measures\n",
    "    - Quoted spreads: Difference between best ask and bid prices\n",
    "    - Effective spreads: Actual execution costs incorporating trade_direction\n",
    "\n",
    "The analysis is performed on Tesla (TSLA) high-frequency trade and quote data from October 21, 2024.\n"
   ],
   "id": "de67409856935a53"
  },
  {
   "metadata": {
    "ExecuteTime": {
     "end_time": "2025-05-11T04:23:50.855788Z",
     "start_time": "2025-05-11T04:23:50.027762Z"
    }
   },
   "cell_type": "code",
   "source": [
    "import pandas as pd\n",
    "import finlib.trade_direction as td\n",
    "import finlib.pin_measure as pm\n",
    "import finlib.volatility_measures as vm\n",
    "import finlib.liquidity_measures as lm\n",
    "import finlib.investment_metrics as im\n",
    "import numpy as np\n",
    "import warnings\n",
    "warnings.filterwarnings('ignore')"
   ],
   "id": "65705ff7d7519a07",
   "outputs": [],
   "execution_count": 1
  },
  {
   "metadata": {
    "ExecuteTime": {
     "end_time": "2025-05-11T02:42:13.302510Z",
     "start_time": "2025-05-11T02:42:13.267800Z"
    }
   },
   "cell_type": "code",
   "source": [
    "import importlib\n",
    "importlib.reload(lm)"
   ],
   "id": "3dca28513d721850",
   "outputs": [
    {
     "data": {
      "text/plain": [
       "<module 'finlib.liquidity_measures' from '/home/nnagarajan/workspace/Stevens FA/FE520 - Introduction to Python for Financial Apps/project/finlib/liquidity_measures.py'>"
      ]
     },
     "execution_count": 9,
     "metadata": {},
     "output_type": "execute_result"
    }
   ],
   "execution_count": 9
  },
  {
   "cell_type": "code",
   "source": [
    "tsla_taq=pd.read_csv(\"data\\tsla_taq_20241021_condensed.csv\")\n",
    "tsla_taq['Date.Time'] = pd.to_datetime(tsla_taq['Date.Time'])\n",
    "tsla_taq.drop('Unnamed: 0',axis=1,inplace=True)"
   ],
   "metadata": {
    "collapsed": false,
    "ExecuteTime": {
     "end_time": "2025-05-11T01:01:38.372433Z",
     "start_time": "2025-05-11T01:01:37.125863Z"
    }
   },
   "id": "eba821d196dcdd4e",
   "outputs": [],
   "execution_count": 2
  },
  {
   "cell_type": "code",
   "source": "tsla_taq",
   "metadata": {
    "collapsed": false,
    "ExecuteTime": {
     "end_time": "2025-05-11T01:01:41.199213Z",
     "start_time": "2025-05-11T01:01:41.190255Z"
    }
   },
   "id": "cf31eb10ce9fc884",
   "outputs": [
    {
     "data": {
      "text/plain": [
       "                                 Date.Time Ex.Cntrb.ID  Bid.Price  Bid.Size  \\\n",
       "0      2024-10-21 04:00:00.098902812-04:00         PSE        NaN       NaN   \n",
       "1      2024-10-21 04:00:00.116955090-04:00         DEX     219.66       1.0   \n",
       "2      2024-10-21 04:00:00.116955090-04:00         DEX     219.66       1.0   \n",
       "3      2024-10-21 04:00:00.116955090-04:00         DEX     219.66       1.0   \n",
       "4      2024-10-21 04:00:00.116955090-04:00         DEX     219.66       1.0   \n",
       "...                                    ...         ...        ...       ...   \n",
       "817711 2024-10-21 19:59:55.963028354-04:00         PSE     218.50       4.0   \n",
       "817712 2024-10-21 19:59:55.963570609-04:00         PSE     218.50       4.0   \n",
       "817713 2024-10-21 19:59:56.043247510-04:00         ADF     218.50       4.0   \n",
       "817714 2024-10-21 19:59:56.078043716-04:00         ADF     218.50       4.0   \n",
       "817715 2024-10-21 19:59:57.948011717-04:00         ADF     218.50       4.0   \n",
       "\n",
       "        Ask.Price  Ask.Size Tick.Dir.   Price  Volume  \n",
       "0             NaN       NaN       NaN  219.70   541.0  \n",
       "1          219.70       2.0       NaN  221.00     6.0  \n",
       "2          219.70       2.0       NaN  220.89     1.0  \n",
       "3          219.70       2.0       NaN  220.89    10.0  \n",
       "4          219.70       2.0       NaN  220.70     3.0  \n",
       "...           ...       ...       ...     ...     ...  \n",
       "817711     218.55      30.0       NaN  218.54     9.0  \n",
       "817712     218.55      30.0       NaN  218.54     1.0  \n",
       "817713     218.55      30.0       NaN  218.50    25.0  \n",
       "817714     218.55      30.0       NaN  218.50     1.0  \n",
       "817715     218.55      30.0       NaN  218.50   100.0  \n",
       "\n",
       "[817716 rows x 9 columns]"
      ],
      "text/html": [
       "<div>\n",
       "<style scoped>\n",
       "    .dataframe tbody tr th:only-of-type {\n",
       "        vertical-align: middle;\n",
       "    }\n",
       "\n",
       "    .dataframe tbody tr th {\n",
       "        vertical-align: top;\n",
       "    }\n",
       "\n",
       "    .dataframe thead th {\n",
       "        text-align: right;\n",
       "    }\n",
       "</style>\n",
       "<table border=\"1\" class=\"dataframe\">\n",
       "  <thead>\n",
       "    <tr style=\"text-align: right;\">\n",
       "      <th></th>\n",
       "      <th>Date.Time</th>\n",
       "      <th>Ex.Cntrb.ID</th>\n",
       "      <th>Bid.Price</th>\n",
       "      <th>Bid.Size</th>\n",
       "      <th>Ask.Price</th>\n",
       "      <th>Ask.Size</th>\n",
       "      <th>Tick.Dir.</th>\n",
       "      <th>Price</th>\n",
       "      <th>Volume</th>\n",
       "    </tr>\n",
       "  </thead>\n",
       "  <tbody>\n",
       "    <tr>\n",
       "      <th>0</th>\n",
       "      <td>2024-10-21 04:00:00.098902812-04:00</td>\n",
       "      <td>PSE</td>\n",
       "      <td>NaN</td>\n",
       "      <td>NaN</td>\n",
       "      <td>NaN</td>\n",
       "      <td>NaN</td>\n",
       "      <td>NaN</td>\n",
       "      <td>219.70</td>\n",
       "      <td>541.0</td>\n",
       "    </tr>\n",
       "    <tr>\n",
       "      <th>1</th>\n",
       "      <td>2024-10-21 04:00:00.116955090-04:00</td>\n",
       "      <td>DEX</td>\n",
       "      <td>219.66</td>\n",
       "      <td>1.0</td>\n",
       "      <td>219.70</td>\n",
       "      <td>2.0</td>\n",
       "      <td>NaN</td>\n",
       "      <td>221.00</td>\n",
       "      <td>6.0</td>\n",
       "    </tr>\n",
       "    <tr>\n",
       "      <th>2</th>\n",
       "      <td>2024-10-21 04:00:00.116955090-04:00</td>\n",
       "      <td>DEX</td>\n",
       "      <td>219.66</td>\n",
       "      <td>1.0</td>\n",
       "      <td>219.70</td>\n",
       "      <td>2.0</td>\n",
       "      <td>NaN</td>\n",
       "      <td>220.89</td>\n",
       "      <td>1.0</td>\n",
       "    </tr>\n",
       "    <tr>\n",
       "      <th>3</th>\n",
       "      <td>2024-10-21 04:00:00.116955090-04:00</td>\n",
       "      <td>DEX</td>\n",
       "      <td>219.66</td>\n",
       "      <td>1.0</td>\n",
       "      <td>219.70</td>\n",
       "      <td>2.0</td>\n",
       "      <td>NaN</td>\n",
       "      <td>220.89</td>\n",
       "      <td>10.0</td>\n",
       "    </tr>\n",
       "    <tr>\n",
       "      <th>4</th>\n",
       "      <td>2024-10-21 04:00:00.116955090-04:00</td>\n",
       "      <td>DEX</td>\n",
       "      <td>219.66</td>\n",
       "      <td>1.0</td>\n",
       "      <td>219.70</td>\n",
       "      <td>2.0</td>\n",
       "      <td>NaN</td>\n",
       "      <td>220.70</td>\n",
       "      <td>3.0</td>\n",
       "    </tr>\n",
       "    <tr>\n",
       "      <th>...</th>\n",
       "      <td>...</td>\n",
       "      <td>...</td>\n",
       "      <td>...</td>\n",
       "      <td>...</td>\n",
       "      <td>...</td>\n",
       "      <td>...</td>\n",
       "      <td>...</td>\n",
       "      <td>...</td>\n",
       "      <td>...</td>\n",
       "    </tr>\n",
       "    <tr>\n",
       "      <th>817711</th>\n",
       "      <td>2024-10-21 19:59:55.963028354-04:00</td>\n",
       "      <td>PSE</td>\n",
       "      <td>218.50</td>\n",
       "      <td>4.0</td>\n",
       "      <td>218.55</td>\n",
       "      <td>30.0</td>\n",
       "      <td>NaN</td>\n",
       "      <td>218.54</td>\n",
       "      <td>9.0</td>\n",
       "    </tr>\n",
       "    <tr>\n",
       "      <th>817712</th>\n",
       "      <td>2024-10-21 19:59:55.963570609-04:00</td>\n",
       "      <td>PSE</td>\n",
       "      <td>218.50</td>\n",
       "      <td>4.0</td>\n",
       "      <td>218.55</td>\n",
       "      <td>30.0</td>\n",
       "      <td>NaN</td>\n",
       "      <td>218.54</td>\n",
       "      <td>1.0</td>\n",
       "    </tr>\n",
       "    <tr>\n",
       "      <th>817713</th>\n",
       "      <td>2024-10-21 19:59:56.043247510-04:00</td>\n",
       "      <td>ADF</td>\n",
       "      <td>218.50</td>\n",
       "      <td>4.0</td>\n",
       "      <td>218.55</td>\n",
       "      <td>30.0</td>\n",
       "      <td>NaN</td>\n",
       "      <td>218.50</td>\n",
       "      <td>25.0</td>\n",
       "    </tr>\n",
       "    <tr>\n",
       "      <th>817714</th>\n",
       "      <td>2024-10-21 19:59:56.078043716-04:00</td>\n",
       "      <td>ADF</td>\n",
       "      <td>218.50</td>\n",
       "      <td>4.0</td>\n",
       "      <td>218.55</td>\n",
       "      <td>30.0</td>\n",
       "      <td>NaN</td>\n",
       "      <td>218.50</td>\n",
       "      <td>1.0</td>\n",
       "    </tr>\n",
       "    <tr>\n",
       "      <th>817715</th>\n",
       "      <td>2024-10-21 19:59:57.948011717-04:00</td>\n",
       "      <td>ADF</td>\n",
       "      <td>218.50</td>\n",
       "      <td>4.0</td>\n",
       "      <td>218.55</td>\n",
       "      <td>30.0</td>\n",
       "      <td>NaN</td>\n",
       "      <td>218.50</td>\n",
       "      <td>100.0</td>\n",
       "    </tr>\n",
       "  </tbody>\n",
       "</table>\n",
       "<p>817716 rows × 9 columns</p>\n",
       "</div>"
      ]
     },
     "execution_count": 3,
     "metadata": {},
     "output_type": "execute_result"
    }
   ],
   "execution_count": 3
  },
  {
   "metadata": {},
   "cell_type": "markdown",
   "source": [
    "### The Bid-Ask Spread\n",
    "The size of the bid/ask spread is an important object of study in microstructure theory, as a proxy for liquidity.\n",
    "\n",
    "The bid-ask spread represents the difference between the highest price a buyer is willing to pay (bid) and the lowest price a seller is willing to accept (ask) for an asset. It is one of the most fundamental measures of market liquidity and transaction costs.\n",
    "\n",
    "Key aspects of bid-ask spreads:\n",
    "\n",
    "- **Market Liquidity**: Narrower spreads typically indicate higher liquidity and lower transaction costs\n",
    "- **Market Maker Profits**: The spread compensates market makers for providing liquidity\n",
    "- **Information Asymmetry**: Wider spreads may reflect greater information asymmetry between traders\n",
    "- **Transaction Costs**: The spread represents an implicit cost for traders\n",
    "\n",
    "Two common measures of spreads are:\n",
    "1. Quoted Spread - The raw difference between best ask and bid prices\n",
    "2. Effective Spread - The actual transaction costs incorporating trade direction\n"
   ],
   "id": "73e5285be2c1d2f9"
  },
  {
   "metadata": {},
   "cell_type": "markdown",
   "source": [
    "#### Quoted Spread\n",
    "Quoted spread is defined in terms of quotes: best-ask $a_t$ and best-bid $b_t$ prices"
   ],
   "id": "ef1bc258157bc458"
  },
  {
   "metadata": {},
   "cell_type": "markdown",
   "source": "$s^Q=\\frac{1}{T}\\sum_{t=1}^T (a_t-b_t)$",
   "id": "f5d18a77dbd582c1"
  },
  {
   "cell_type": "code",
   "source": "lm.quoted_spread(tsla_taq[\"Bid.Price\"],tsla_taq[\"Ask.Price\"])",
   "metadata": {
    "collapsed": false,
    "ExecuteTime": {
     "end_time": "2025-05-11T03:55:13.420369Z",
     "start_time": "2025-05-11T03:55:13.413106Z"
    }
   },
   "id": "b379da3314052282",
   "outputs": [
    {
     "data": {
      "text/plain": [
       "-0.042639700433158845"
      ]
     },
     "execution_count": 16,
     "metadata": {},
     "output_type": "execute_result"
    }
   ],
   "execution_count": 16
  },
  {
   "metadata": {},
   "cell_type": "markdown",
   "source": [
    "#### Effective Spread\n",
    "The efficient price $p_t^*$ is not observable and is usually proxied with mid-price $m_t=\\frac{1}{2}(a_t+b_t)$"
   ],
   "id": "bbbdf62efdaf97e0"
  },
  {
   "metadata": {},
   "cell_type": "markdown",
   "source": "$ES=\\frac{1}{T}\\sum_{t=1}^T2q_t(p_t-m_t)$",
   "id": "b36e6021aadf9174"
  },
  {
   "metadata": {
    "ExecuteTime": {
     "end_time": "2025-05-11T03:55:14.235697Z",
     "start_time": "2025-05-11T03:55:14.223063Z"
    }
   },
   "cell_type": "code",
   "source": "lm.effective_spread(tsla_taq[\"Price\"],tsla_taq[\"Bid.Price\"],tsla_taq[\"Ask.Price\"],trade_directions)",
   "id": "56e6d7ebcde407cb",
   "outputs": [
    {
     "data": {
      "text/plain": [
       "0.04251152849774049"
      ]
     },
     "execution_count": 17,
     "metadata": {},
     "output_type": "execute_result"
    }
   ],
   "execution_count": 17
  },
  {
   "metadata": {},
   "cell_type": "markdown",
   "source": "### Trade Direction",
   "id": "331ee2e38b6af800"
  },
  {
   "metadata": {},
   "cell_type": "markdown",
   "source": [
    "Trade direction classification is essential for understanding order flow and market dynamics. We use two common methods:\n",
    "\n",
    "1. **Lee-Ready Rule**\n",
    "Based on trade price comparison with quotes:\n",
    "- If trade price > midpoint: Buy (+1)\n",
    "- If trade price < midpoint: Sell (-1) \n",
    "- If trade price = midpoint: Use tick test\n",
    "\n",
    "2. **Tick Test**\n",
    "Based on price changes:\n",
    "- Uptick (price increase) or zero-uptick: Buy (+1)\n",
    "- Downtick (price decrease) or zero-downtick: Sell (-1)\n",
    "\n",
    "These methods help determine whether trades are buyer or seller initiated, which is crucial for:\n",
    "- Calculating effective spreads\n",
    "- Estimating order flow imbalance \n",
    "- Analyzing information-based trading\n"
   ],
   "id": "ad5a2241e8b3ca7f"
  },
  {
   "metadata": {},
   "cell_type": "markdown",
   "source": [
    "#### Lee-Ready rule\n",
    "This test uses both trade prices pt and quotes $a_t$ , $b_t$ . The Lee-Ready rule decides if a trade is a buy or sell by comparing the trade price $p_t$ with the mid-price $m+t$ = $\\frac{1}{2} (a_t +b_t )$ (the half-point between best-bid $b_t$ and best-ask $a_t$)"
   ],
   "id": "6d45d083fc859028"
  },
  {
   "metadata": {},
   "cell_type": "markdown",
   "source": [
    "$$\n",
    "d_t = \\begin{cases}\n",
    "+1 \\text{ (buy)} & \\text{if } p_t > m_t \\\\\n",
    "-1 & \\text{if } p_t < m_t \\\\\n",
    "\\text{tick rule} & \\text{if } p_t = m_t\n",
    "\\end{cases}\n",
    "$$\n"
   ],
   "id": "5733e963b9cd25c6"
  },
  {
   "metadata": {},
   "cell_type": "markdown",
   "source": [
    "#### Tick test\n",
    "This test uses on the trade prices $p_t$"
   ],
   "id": "339b3b880848eb8b"
  },
  {
   "metadata": {},
   "cell_type": "markdown",
   "source": [
    "$$\n",
    "d_t =\n",
    "\\begin{cases}\n",
    "+1 \\text{ (buy)} & \\text{if } p_t > p_{t-1} \\text{ (uptick)} \\text{ or if } p_t = p_{t-1} > p_{t-2} \\text{ (zero-uptick)} \\\\\n",
    "-1 \\text{ (sell)} & \\text{if } p_t < p_{t-1} \\text{ (downtick)} \\text{ or if } p_t = p_{t-1} < p_{t-2} \\text{ (zero-downtick)}\n",
    "\\end{cases}\n",
    "$$"
   ],
   "id": "52ed0abcfce01087"
  },
  {
   "metadata": {},
   "cell_type": "code",
   "outputs": [],
   "execution_count": null,
   "source": "trade_directions=td.lee_ready_direction(tsla_taq[\"Price\"],tsla_taq[\"Bid.Price\"],tsla_taq[\"Ask.Price\"])",
   "id": "25db11675a4515c7"
  },
  {
   "cell_type": "code",
   "source": "tsla_taq[\"Direction\"]=trade_directions",
   "metadata": {
    "collapsed": false,
    "ExecuteTime": {
     "end_time": "2025-05-11T01:01:51.639650Z",
     "start_time": "2025-05-11T01:01:51.636187Z"
    }
   },
   "id": "22e08a25558a8c46",
   "outputs": [],
   "execution_count": 5
  },
  {
   "cell_type": "code",
   "source": [
    "tsla_buy_vols=tsla_taq[tsla_taq[\"Direction\"]==1][\"Volume\"]\n",
    "tsla_sell_vols=tsla_taq[tsla_taq[\"Direction\"]==-1][\"Volume\"]"
   ],
   "metadata": {
    "collapsed": false,
    "ExecuteTime": {
     "end_time": "2025-05-11T01:01:53.377563Z",
     "start_time": "2025-05-11T01:01:53.336374Z"
    }
   },
   "id": "d8960cc61ab58e47",
   "outputs": [],
   "execution_count": 6
  },
  {
   "metadata": {},
   "cell_type": "markdown",
   "source": [
    "### Probability of Informed Trading (PIN)\n",
    "\n",
    "The Probability of Informed Trading (PIN) is a measure developed by Easley, Kiefer, O'Hara and Paperman (EKOP) to estimate the fraction of orders that come from informed traders. The model assumes:\n",
    "\n",
    "- Trading days begin with nature determining if an information event occurs (probability α)\n",
    "- Information can be good news (probability δ) or bad news (probability 1-δ)  \n",
    "- Informed traders trade only on information event days (arrival rate μ)\n",
    "- Uninformed buyers and sellers arrive at rate ε\n",
    "\n",
    "The PIN is calculated as:"
   ],
   "id": "fdf4b15754668671"
  },
  {
   "metadata": {},
   "cell_type": "markdown",
   "source": [
    "\n",
    "PIN = (α × μ) / (α × μ + 2ε)\n"
   ],
   "id": "f7e5b573e33951d7"
  },
  {
   "metadata": {},
   "cell_type": "markdown",
   "source": [
    "Where:\n",
    "- α = Probability\n",
    "of\n",
    "information\n",
    "event\n",
    "- μ = Arrival\n",
    "rate\n",
    "of\n",
    "informed\n",
    "traders\n",
    "- ε = Arrival\n",
    "rate\n",
    "of\n",
    "uninformed\n",
    "traders\n",
    "\n",
    "A\n",
    "higher\n",
    "PIN\n",
    "indicates\n",
    "greater\n",
    "information\n",
    "asymmetry in the\n",
    "market, as a\n",
    "larger\n",
    "portion\n",
    "of\n",
    "trades\n",
    "are\n",
    "from informed traders.PIN is useful\n",
    "for:\n",
    "    - Measuring\n",
    "adverse\n",
    "selection\n",
    "risk\n",
    "- Analyzing\n",
    "market\n",
    "efficiency\n",
    "- Studying\n",
    "price\n",
    "discovery\n",
    "process\n"
   ],
   "id": "58cc2c66f828dea0"
  },
  {
   "cell_type": "code",
   "source": "pm.pin_ekop(tsla_buy_vols, tsla_sell_vols)",
   "metadata": {
    "collapsed": false,
    "is_executing": true,
    "ExecuteTime": {
     "end_time": "2025-05-11T02:45:14.069148Z",
     "start_time": "2025-05-11T02:42:19.621623Z"
    }
   },
   "id": "b12830e7262908d9",
   "outputs": [
    {
     "data": {
      "text/plain": [
       "np.float64(0.09090909090909091)"
      ]
     },
     "execution_count": 10,
     "metadata": {},
     "output_type": "execute_result"
    }
   ],
   "execution_count": 10
  },
  {
   "metadata": {},
   "cell_type": "markdown",
   "source": [
    "### Roll's Model\n",
    "Roll's model (Roll, 1984) estimates the effective spread from the autocovariance of price changes. The model assumes that:\n",
    "- True prices follow a random walk\n",
    "- Observed prices deviate from true prices by half the spread\n",
    "- Buy/sell orders are equally likely\n",
    "\n",
    "The estimated spread is given by:\n",
    "\n",
    "$s = 2\\sqrt{-cov(\\Delta p_t, \\Delta p_{t-1})}$\n",
    "\n",
    "where:\n",
    "- $s$ is the estimated spread\n",
    "- $\\Delta p_t$ is the price change at time t\n",
    "- $cov(\\Delta p_t, \\Delta p_{t-1})$ is the first-order autocovariance of price changes\n",
    "\n",
    "The volatility estimate from Roll's model is:\n",
    "\n",
    "$\\sigma^2 = var(\\Delta p_t) + cov(\\Delta p_t, \\Delta p_{t-1})$\n",
    "\n",
    "where $\\sigma^2$ is the variance of the true price changes.\n",
    "\n",
    "The model reveals both the spread and volatility from just the price series, making it useful when quote data is unavailable.\n"
   ],
   "id": "f77efbe028f676eb"
  },
  {
   "metadata": {},
   "cell_type": "code",
   "outputs": [
    {
     "data": {
      "text/plain": "{'Average Price': 218.31344714070912,\n 'Daily Volatility (Roll)': 458.1250074867424,\n 'Annualized Volatility (Roll)': 7272.509035137145,\n 'Log-Normal Annualized Volatility (Roll)': 33.31223582599476,\n 'Total Daily Volatility': 904.2754005279586,\n 'Total Annualized Volatility': 14354.926959061826,\n 'Log-Normal Total Annualized Volatility': 65.75374603383764}"
     },
     "execution_count": 65,
     "metadata": {},
     "output_type": "execute_result"
    }
   ],
   "execution_count": 65,
   "source": "vm.roll_model_analysis(tsla_taq[\"Price\"].dropna())",
   "id": "ac5674539d9e71f3"
  },
  {
   "metadata": {},
   "cell_type": "markdown",
   "source": "## Investment Performance Metrics\n",
   "id": "9a2ffa3105d4005"
  },
  {
   "metadata": {},
   "cell_type": "markdown",
   "source": [
    "\n",
    "#### Compound Annual Growth Rate (CAGR)\n",
    "CAGR measures the annual growth rate of an investment over time, assuming returns are reinvested. It provides a \"smoothed\" rate of return.\n",
    "\n",
    "$CAGR = \\left(\\frac{End Value}{Beginning Value}\\right)^{\\frac{1}{n}} - 1$\n",
    "\n",
    "where n is the number of years.\n",
    "\n",
    "#### Return on Investment (ROI)\n",
    "ROI measures the profitability of an investment relative to its cost.\n",
    "\n",
    "$ROI = \\frac{End Value - Initial Value}{Initial Value}$\n",
    "\n",
    "#### Sharpe Ratio\n",
    "The Sharpe ratio measures the risk-adjusted return of an investment by comparing its excess return (return above risk-free rate) to its standard deviation (volatility).\n",
    "\n",
    "$Sharpe\\ Ratio = \\frac{R_p - R_f}{\\sigma_p}$\n",
    "\n",
    "where:\n",
    "- $R_p$ = Return of portfolio\n",
    "- $R_f$ = Risk-free rate\n",
    "- $\\sigma_p$ = Standard deviation of portfolio returns\n",
    "\n",
    "#### Volatility Measures\n",
    "Volatility measures the dispersion of returns and is typically calculated as the standard deviation of returns:\n",
    "\n",
    "$\\sigma = \\sqrt{\\frac{1}{N-1}\\sum_{i=1}^N(x_i-\\mu)^2}$\n",
    "\n",
    "where:\n",
    "- $x_i$ = Return observation\n",
    "- $\\mu$ = Mean return\n",
    "- $N$ = Number of observations\n",
    "\n",
    "Additional volatility measures include:\n",
    "- Historical Volatility: Standard deviation of past returns\n",
    "- Implied Volatility: Market's forecast of likely price moves derived from options prices\n",
    "- Realized Volatility: Actual observed volatility over a specific period\n"
   ],
   "id": "a103065b170258aa"
  },
  {
   "metadata": {},
   "cell_type": "code",
   "outputs": [],
   "execution_count": 11,
   "source": [
    "aapl_data = pd.read_csv(\"data\\AAPL_Recent_May2023_May2024.csv\", parse_dates=[\"Date\"])\n",
    "aapl_data.set_index(\"Date\", inplace=True)\n",
    "prices = aapl_data[\"Adj Close\"]"
   ],
   "id": "974dd31f4b87bf97"
  },
  {
   "metadata": {
    "ExecuteTime": {
     "end_time": "2025-05-11T03:53:18.353758Z",
     "start_time": "2025-05-11T03:53:18.126480Z"
    }
   },
   "cell_type": "code",
   "source": [
    "start_val = prices.iloc[0]\n",
    "end_val = prices.iloc[-1]\n",
    "returns = np.log(prices / prices.shift(1)).dropna()\n",
    "\n",
    "# Calculate metrics\n",
    "cagr_val = im.cagr(start_val, end_val, 1)\n",
    "roi_val = im.roi(end_val, start_val)\n",
    "sharpe_val = im.sharpe_ratio(returns)\n",
    "volatility_val = im.calculate_volatility(prices)\n",
    "\n",
    "# Display metrics\n",
    "df_metrics = pd.DataFrame({\n",
    "    \"Metric\": [\"CAGR\", \"ROI\", \"Sharpe Ratio\", \"Volatility\"],\n",
    "    \"Value\": [cagr_val, roi_val, sharpe_val, volatility_val]\n",
    "})\n",
    "print(df_metrics)\n",
    "\n",
    "# Plot\n",
    "im.plot_price_and_returns(prices)"
   ],
   "id": "145c57fac2c82cc7",
   "outputs": [
    {
     "name": "stdout",
     "output_type": "stream",
     "text": [
      "         Metric     Value\n",
      "0          CAGR -0.039481\n",
      "1           ROI -0.039481\n",
      "2  Sharpe Ratio -1.026047\n",
      "3    Volatility  0.009896\n"
     ]
    },
    {
     "data": {
      "text/plain": [
       "<Figure size 1000x600 with 2 Axes>"
      ],
      "image/png": "[encoded data removed]"
     },
     "metadata": {},
     "output_type": "display_data"
    }
   ],
   "execution_count": 15
  },
  {
   "metadata": {},
   "cell_type": "code",
   "outputs": [],
   "execution_count": null,
   "source": "",
   "id": "4f195c1b59c4990"
  }
 ],
 "metadata": {
  "kernelspec": {
   "display_name": "Python 3 (ipykernel)",
   "language": "python",
   "name": "python3"
  },
  "language_info": {
   "codemirror_mode": {
    "name": "ipython",
    "version": 3
   },
   "file_extension": ".py",
   "mimetype": "text/x-python",
   "name": "python",
   "nbconvert_exporter": "python",
   "pygments_lexer": "ipython3",
   "version": "3.9.21"
  }
 },
 "nbformat": 4,
 "nbformat_minor": 5
}
